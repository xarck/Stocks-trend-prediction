{
 "cells": [
  {
   "cell_type": "code",
   "execution_count": 1,
   "metadata": {},
   "outputs": [],
   "source": [
    "from urllib.request import urlopen, Request\n",
    "import pandas as pd\n",
    "import numpy as np\n",
    "import pandas_datareader as pdr\n",
    "import matplotlib.pyplot as plt\n",
    "from bs4 import BeautifulSoup\n",
    "import nltk\n",
    "from nltk.sentiment.vader import SentimentIntensityAnalyzer\n",
    "import pandas_datareader as pdr\n",
    "import datetime as dt\n",
    "from datetime import datetime\n",
    "from sklearn.metrics import confusion_matrix\n",
    "import seaborn as sns\n",
    "import matplotlib.pyplot as plt \n",
    "import pandas_datareader as pdr\n",
    "import pandas as pd\n",
    "import seaborn as sns\n",
    "import numpy as np\n",
    "import matplotlib.pyplot as plt\n",
    "import yfinance as yfin\n",
    "from pandas_datareader import data as pdr\n",
    "%matplotlib inline"
   ]
  },
  {
   "cell_type": "code",
   "execution_count": 2,
   "metadata": {},
   "outputs": [],
   "source": [
    "#rounding off\n",
    "def roundof_val(l):\n",
    "    for i in range(0,len(l)):\n",
    "        l[i]=round(l[i],2)\n",
    "    return(l)\n"
   ]
  },
  {
   "cell_type": "code",
   "execution_count": 3,
   "metadata": {},
   "outputs": [],
   "source": [
    "stock_data=pd.read_csv('tickers_info.csv')"
   ]
  },
  {
   "cell_type": "code",
   "execution_count": 4,
   "metadata": {},
   "outputs": [
    {
     "data": {
      "text/plain": [
       "array([['reliance', 'RELI', 'RELIANCE.NS'],\n",
       "       ['tatamotors', 'TTM', 'TATAMOTORS.BO'],\n",
       "       ['Infoys', 'INFY', 'INFY.NS'],\n",
       "       ['Wipro', 'WIT', 'WIPRO.NS'],\n",
       "       ['Azure power corp lim', 'AZRE', 'AZRE'],\n",
       "       ['Sify techno limited', 'SIFY', 'SIFY'],\n",
       "       ['HDFC', 'HDB', 'HDB'],\n",
       "       ['ICICI', 'IBN', 'IBN'],\n",
       "       ['Makemytrip', 'MMYT', 'MMYT'],\n",
       "       ['Dr reddy lab limited', 'RDY', 'RDY'],\n",
       "       ['Wns limited', 'WNS', 'WNS'],\n",
       "       ['Renew  energy', 'RNW', 'RNW']], dtype=object)"
      ]
     },
     "execution_count": 4,
     "metadata": {},
     "output_type": "execute_result"
    }
   ],
   "source": [
    "stock_data=np.array(stock_data)\n",
    "stock_data"
   ]
  },
  {
   "cell_type": "code",
   "execution_count": 5,
   "metadata": {},
   "outputs": [],
   "source": [
    "finviz_url='https://finviz.com/quote.ashx?t='"
   ]
  },
  {
   "cell_type": "code",
   "execution_count": 6,
   "metadata": {},
   "outputs": [
    {
     "data": {
      "text/plain": [
       "12"
      ]
     },
     "execution_count": 6,
     "metadata": {},
     "output_type": "execute_result"
    }
   ],
   "source": [
    "len(stock_data)"
   ]
  },
  {
   "cell_type": "code",
   "execution_count": 7,
   "metadata": {},
   "outputs": [],
   "source": [
    "news_tables={}"
   ]
  },
  {
   "cell_type": "code",
   "execution_count": 8,
   "metadata": {},
   "outputs": [],
   "source": [
    "#getting url's\n",
    "l=len(stock_data)\n",
    "for i in range(9,l):\n",
    "    url=finviz_url+stock_data[i][1]\n",
    "    req=Request(url=url,headers={'user-agent':'my-app'})\n",
    "    response=urlopen(req)\n",
    "    html=BeautifulSoup(response,'html')\n",
    "    news_table=html.find(id='news-table')\n",
    "    news_tables[stock_data[i][1]]=news_table\n"
   ]
  },
  {
   "cell_type": "code",
   "execution_count": null,
   "metadata": {},
   "outputs": [],
   "source": [
    "\n"
   ]
  },
  {
   "cell_type": "code",
   "execution_count": 9,
   "metadata": {},
   "outputs": [],
   "source": [
    "def year(m):\n",
    "    if(m=='Jan'):\n",
    "        return('01')\n",
    "    elif(m=='Feb'):\n",
    "        return('02')\n",
    "    elif(m=='Mar'):\n",
    "        return('03')\n",
    "    elif(m=='Apr'):\n",
    "        return('04')\n",
    "    elif(m=='May'):\n",
    "        return('05')\n",
    "    elif(m=='Jun'):\n",
    "        return('06')\n",
    "    elif(m=='Jul'):\n",
    "        return('07')\n",
    "    elif(m=='Aug'):\n",
    "        return('08')\n",
    "    elif(m=='Sep'):\n",
    "        return('09')\n",
    "    elif(m=='Oct'):\n",
    "        return('10')\n",
    "    elif(m=='Nov'):\n",
    "        return('11')\n",
    "    elif(m=='Dec'):\n",
    "        return('12')\n"
   ]
  },
  {
   "cell_type": "code",
   "execution_count": 10,
   "metadata": {},
   "outputs": [],
   "source": [
    "#close of the day\n",
    "def get_close(d,i,str):\n",
    "    from datetime import datetime\n",
    "    date_time_str = d[i]+' 01:55:19'\n",
    "    x= datetime.strptime(date_time_str, '%d/%m/%y %H:%M:%S')\n",
    "    y=x-dt.timedelta(20)\n",
    "    try:\n",
    "        tata=pdr.get_data_yahoo(str,start=y,end=x)\n",
    "        t=tata.Close.values\n",
    "        t=roundof_val(t)\n",
    "    except:\n",
    "        t=[0,0,0,0]\n",
    "    return(t[-1])\n",
    "\n",
    "    "
   ]
  },
  {
   "cell_type": "code",
   "execution_count": 11,
   "metadata": {},
   "outputs": [],
   "source": [
    "#get dates in datetime format\n",
    "def get_date(dates,i):\n",
    "    yy=dates[i][7:]\n",
    "    \n",
    "    dd=dates[i][4:6]\n",
    "    dd=dd+'/'\n",
    "    mm=year(dates[i][0:3])\n",
    "    mm=mm+'/'\n",
    "    return(dd+mm+yy)\n",
    "\n",
    "    \n"
   ]
  },
  {
   "cell_type": "code",
   "execution_count": 12,
   "metadata": {},
   "outputs": [],
   "source": [
    "#get high and low of consecutive days\n",
    "def get_day(d,i,str):\n",
    "    temp=[]\n",
    "    from datetime import datetime\n",
    "    date_time_str = d[i]+' 01:55:19'\n",
    "    x= datetime.strptime(date_time_str, '%d/%m/%y %H:%M:%S')\n",
    "    y=x+dt.timedelta(10)\n",
    "    yfin.pdr_override()\n",
    "    try:\n",
    "        tata=pdr.get_data_yahoo(str,start=x,end=y)\n",
    "        # print(tata)\n",
    "        t1=tata.High.values\n",
    "        t2=tata.Low.values\n",
    "        t0=tata.Close.values\n",
    "        t4=tata.Open.values\n",
    "        t1=roundof_val(t1)\n",
    "        t2=roundof_val(t2)\n",
    "        # print(t1)\n",
    "        # print(t2)\n",
    "        temp.append(t0[0])\n",
    "        temp.append(t4[1])\n",
    "        temp.append(t0[1])\n",
    "        temp.append(t1[1])\n",
    "        temp.append(t2[1])\n",
    "        temp.append(t1[2])\n",
    "        temp.append(t2[2])\n",
    "        temp.append(t1[3])\n",
    "        temp.append(t2[3])\n",
    "        temp.append(t1[4])\n",
    "        temp.append(t2[4])\n",
    "        temp.append(t1[5])\n",
    "        temp.append(t2[5])\n",
    "    except:\n",
    "        temp.append(0)\n",
    "        temp.append(0)\n",
    "        temp.append(0)\n",
    "        temp.append(0)\n",
    "        temp.append(0)\n",
    "        temp.append(0)\n",
    "        temp.append(0)\n",
    "        temp.append(0)\n",
    "        temp.append(0)\n",
    "        temp.append(0)\n",
    "        temp.append(0)\n",
    "        temp.append(0)\n",
    "        temp.append(0)\n",
    "        \n",
    "    return(temp)\n",
    "\n",
    "    "
   ]
  },
  {
   "cell_type": "code",
   "execution_count": 13,
   "metadata": {},
   "outputs": [],
   "source": [
    "\n",
    "def maxi_mean(info):\n",
    "    h=len(info)\n",
    "    max=0\n",
    "    i=3\n",
    "    count=0\n",
    "    while i<h:\n",
    "        if(info[i]==0):\n",
    "            break\n",
    "        max=max+info[i]\n",
    "        count=count+1\n",
    "        i=i+2\n",
    "    if count==0:\n",
    "        return 0\n",
    "    max=max/count\n",
    "    max=round(max,2)\n",
    "    return(max)\n",
    "\n"
   ]
  },
  {
   "cell_type": "code",
   "execution_count": 14,
   "metadata": {},
   "outputs": [],
   "source": [
    "def mini_mean(info):\n",
    "    h=len(info)\n",
    "    max=0\n",
    "    i=4\n",
    "    count=0\n",
    "    while i<h:\n",
    "        if(info[i]==0):\n",
    "            break\n",
    "        max=max+info[i]\n",
    "        count=count+1\n",
    "        i=i+2\n",
    "    if count==0:\n",
    "        return 0\n",
    "    max=max/count\n",
    "    max=round(max,2)\n",
    "\n",
    "    return(max)\n",
    "\n"
   ]
  },
  {
   "cell_type": "code",
   "execution_count": 15,
   "metadata": {},
   "outputs": [],
   "source": [
    "def compare(close,max,min):\n",
    "    if(abs(close-min)>abs(close-max)):\n",
    "        return(-1)\n",
    "    else:\n",
    "        return(1)"
   ]
  },
  {
   "cell_type": "code",
   "execution_count": 16,
   "metadata": {},
   "outputs": [],
   "source": [
    "def find_total(info):\n",
    "    l=len(info)\n",
    "    c=[0,0,0]\n",
    "    for i in range(0,l):\n",
    "        if(info[i]=='Neutral'):\n",
    "            c[0]=c[0]+1\n",
    "        elif(info[i]=='Increase'):\n",
    "            c[1]=c[1]+1\n",
    "        else:\n",
    "            c[2]=c[2]+1\n",
    "    return(c)"
   ]
  },
  {
   "cell_type": "code",
   "execution_count": 17,
   "metadata": {},
   "outputs": [],
   "source": [
    "def find_predicted(compound):\n",
    "    a=[]\n",
    "    for i in range(0,len(compound)):\n",
    "        if(compound[i]>0):\n",
    "            a.append('Increase')\n",
    "        elif(compound[i]<0):\n",
    "            a.append('Decrease')\n",
    "    return(a)\n",
    "        \n"
   ]
  },
  {
   "cell_type": "code",
   "execution_count": 18,
   "metadata": {},
   "outputs": [],
   "source": [
    "#datset for arima\n",
    "def arima_data(d,i,str):\n",
    "    from datetime import datetime\n",
    "    date_time_str = d[i]+' 01:55:19'\n",
    "    x= datetime.strptime(date_time_str, '%d/%m/%y %H:%M:%S')\n",
    "    y=x-dt.timedelta(300)\n",
    "    yfin.pdr_override()\n",
    "    print(y)\n",
    "    print(x)\n",
    "    try:\n",
    "        tata=pdr.get_data_yahoo(str,start=y,end=x)\n",
    "        \n",
    "        \n",
    "    except:\n",
    "        tata=pdr.get_data_yahoo(str,start=y,end=x)\n",
    "    return(tata)"
   ]
  },
  {
   "cell_type": "code",
   "execution_count": 19,
   "metadata": {},
   "outputs": [],
   "source": [
    "#getting close of next day\n",
    "def next_Close(d,i,str):\n",
    "    from datetime import datetime\n",
    "    date_time_str = d[i]+' 01:55:19'\n",
    "    x= datetime.strptime(date_time_str, '%d/%m/%y %H:%M:%S')\n",
    "    y=x+dt.timedelta(5)\n",
    "    try:\n",
    "        tata=pdr.get_data_yahoo(str,start=x,end=y)\n",
    "        t=tata.Close.values\n",
    "\n",
    "        \n",
    "    except:\n",
    "        t=[0,0]\n",
    "    return(t[1])\n"
   ]
  },
  {
   "cell_type": "code",
   "execution_count": 20,
   "metadata": {},
   "outputs": [],
   "source": [
    "#getting high of next day\n",
    "def next_high(d,i,str):\n",
    "    from datetime import datetime\n",
    "    date_time_str = d[i]+' 01:55:19'\n",
    "    x= datetime.strptime(date_time_str, '%d/%m/%y %H:%M:%S')\n",
    "    y=x+dt.timedelta(5)\n",
    "    try:\n",
    "        tata=pdr.get_data_yahoo(str,start=x,end=y)\n",
    "        t=tata.High.values\n",
    "\n",
    "        \n",
    "    except:\n",
    "        t=[0,0]\n",
    "    return(t[1])\n"
   ]
  },
  {
   "cell_type": "code",
   "execution_count": 21,
   "metadata": {},
   "outputs": [],
   "source": [
    "#getting Low of next day\n",
    "def next_low(d,i,str):\n",
    "    from datetime import datetime\n",
    "    date_time_str = d[i]+' 01:55:19'\n",
    "    x= datetime.strptime(date_time_str, '%d/%m/%y %H:%M:%S')\n",
    "    y=x+dt.timedelta(5)\n",
    "    try:\n",
    "        tata=pdr.get_data_yahoo(str,start=x,end=y)\n",
    "        t=tata.Low.values\n",
    "\n",
    "        \n",
    "    except:\n",
    "        t=[0,0]\n",
    "    return(t[1])\n"
   ]
  },
  {
   "cell_type": "code",
   "execution_count": 22,
   "metadata": {},
   "outputs": [],
   "source": [
    "def percan_inc(x,y):\n",
    "    a=x-y\n",
    "    a=a/y\n",
    "    a=a*100\n",
    "    return(a)"
   ]
  },
  {
   "cell_type": "code",
   "execution_count": 23,
   "metadata": {},
   "outputs": [],
   "source": [
    "def arima_pred(name,date_arr,i,nc):\n",
    "    train_data=arima_data(date_arr,i,name)\n",
    "    train=list(train_data[:]['Close'])\n",
    "    # print(\"ff\",train)\n",
    "\n",
    "    model_prediction=[]\n",
    "    #from statsmodels.tsa.arima_model import ARIMA\n",
    "    from statsmodels.tsa.stattools import adfuller\n",
    "    from statsmodels.tsa.arima.model import ARIMA\n",
    "    result=adfuller(train_data.Close.dropna())\n",
    "    print(\"AdY statistics\",result[0])\n",
    "    print(\"p-value\",result[1])\n",
    "\n",
    "    try:\n",
    "        model=ARIMA(train,order=(5,1,0))\n",
    "        model_fit=model.fit()\n",
    "        output=model_fit.forecast()\n",
    "        \n",
    "        model_prediction.append(output[0])\n",
    "    except:\n",
    "        \n",
    "        a=0\n",
    "    try:    \n",
    "        model=ARIMA(train,order=(4,1,0))\n",
    "        model_fit=model.fit()\n",
    "        output=model_fit.forecast()\n",
    "        model_prediction.append(output[0])\n",
    "        # model_prediction.append(list(output[0])[0])\n",
    "    except:\n",
    "        a=0\n",
    "    try:    \n",
    "        model=ARIMA(train,order=(4,1,2))\n",
    "        model_fit=model.fit()\n",
    "        output=model_fit.forecast()\n",
    "        model_prediction.append(output[0])\n",
    "        # model_prediction.append(list(output[0])[0])\n",
    "    except:\n",
    "        a=0\n",
    "    try:\n",
    "        model=ARIMA(train,order=(5,1,2))\n",
    "        model_fit=model.fit()\n",
    "        output=model_fit.forecast()\n",
    "        model_prediction.append(output[0])\n",
    "        # model_prediction.append(list(output[0])[0])\n",
    "    except:\n",
    "        a=0\n",
    "    from statistics import mean\n",
    "    \n",
    "    model_prediction=list(model_prediction)\n",
    "    pre=mean(model_prediction)\n",
    "    if(pre<nc):\n",
    "        # if(percan_inc(pre,nc)<=-1):\n",
    "        #     return([pre,-1])\n",
    "        # else:\n",
    "        #     return([pre,0])\n",
    "        return([pre,-1])\n",
    "    else:\n",
    "        # if(percan_inc(pre,nc)>=1):\n",
    "        #     return([pre,1])\n",
    "        # else:\n",
    "        #     return([pre,0])\n",
    "        return([pre,1])\n",
    "    \n",
    "    "
   ]
  },
  {
   "cell_type": "code",
   "execution_count": 24,
   "metadata": {},
   "outputs": [],
   "source": [
    "def profit(inv,open,ar):\n",
    "    no=int(inv/open)\n",
    "    p=ar-open\n",
    "    return(p*no)\n",
    "\n"
   ]
  },
  {
   "cell_type": "code",
   "execution_count": 25,
   "metadata": {},
   "outputs": [],
   "source": [
    "def loss_cal(inv,open,close,low):\n",
    "     no=int(inv/open)\n",
    "     p=(open+low)/2\n",
    "     p=open-p\n",
    "     return(p*no)"
   ]
  },
  {
   "cell_type": "code",
   "execution_count": 26,
   "metadata": {},
   "outputs": [],
   "source": [
    "#percantage profit calculate\n",
    "def per_prof_cal(inv,act):\n",
    "    p=inv-act\n",
    "    p=p/act\n",
    "    p=p*100\n",
    "    return(p)"
   ]
  },
  {
   "cell_type": "code",
   "execution_count": 27,
   "metadata": {},
   "outputs": [
    {
     "name": "stdout",
     "output_type": "stream",
     "text": [
      "[*********************100%***********************]  1 of 1 completed\n",
      "0\n",
      "[*********************100%***********************]  1 of 1 completed\n",
      "1\n",
      "[*********************100%***********************]  1 of 1 completed\n",
      "2\n",
      "[*********************100%***********************]  1 of 1 completed\n",
      "3\n",
      "[*********************100%***********************]  1 of 1 completed\n",
      "4\n",
      "[*********************100%***********************]  1 of 1 completed\n",
      "5\n",
      "[*********************100%***********************]  1 of 1 completed\n",
      "6\n",
      "[*********************100%***********************]  1 of 1 completed\n",
      "7\n",
      "[*********************100%***********************]  1 of 1 completed\n",
      "8\n",
      "[*********************100%***********************]  1 of 1 completed\n",
      "9\n",
      "[*********************100%***********************]  1 of 1 completed\n",
      "10\n",
      "[*********************100%***********************]  1 of 1 completed\n",
      "11\n",
      "[*********************100%***********************]  1 of 1 completed\n",
      "12\n",
      "[*********************100%***********************]  1 of 1 completed\n",
      "13\n",
      "[*********************100%***********************]  1 of 1 completed\n",
      "14\n",
      "[*********************100%***********************]  1 of 1 completed\n",
      "15\n",
      "[*********************100%***********************]  1 of 1 completed\n",
      "16\n",
      "[*********************100%***********************]  1 of 1 completed\n",
      "17\n",
      "[*********************100%***********************]  1 of 1 completed\n",
      "18\n",
      "[*********************100%***********************]  1 of 1 completed\n",
      "19\n",
      "[*********************100%***********************]  1 of 1 completed\n",
      "20\n",
      "[*********************100%***********************]  1 of 1 completed\n",
      "21\n",
      "[*********************100%***********************]  1 of 1 completed\n",
      "22\n",
      "[*********************100%***********************]  1 of 1 completed\n",
      "23\n",
      "[*********************100%***********************]  1 of 1 completed\n",
      "24\n",
      "[*********************100%***********************]  1 of 1 completed\n",
      "25\n",
      "[*********************100%***********************]  1 of 1 completed\n",
      "26\n",
      "[*********************100%***********************]  1 of 1 completed\n",
      "27\n",
      "[*********************100%***********************]  1 of 1 completed\n",
      "28\n",
      "[*********************100%***********************]  1 of 1 completed\n",
      "29\n",
      "[*********************100%***********************]  1 of 1 completed\n",
      "30\n",
      "[*********************100%***********************]  1 of 1 completed\n",
      "31\n",
      "[*********************100%***********************]  1 of 1 completed\n",
      "32\n",
      "[*********************100%***********************]  1 of 1 completed\n",
      "33\n",
      "[*********************100%***********************]  1 of 1 completed\n",
      "34\n",
      "[*********************100%***********************]  1 of 1 completed\n",
      "35\n",
      "[*********************100%***********************]  1 of 1 completed\n",
      "36\n",
      "[*********************100%***********************]  1 of 1 completed\n",
      "37\n",
      "[*********************100%***********************]  1 of 1 completed\n",
      "38\n",
      "[*********************100%***********************]  1 of 1 completed\n",
      "39\n",
      "[*********************100%***********************]  1 of 1 completed\n",
      "40\n",
      "[*********************100%***********************]  1 of 1 completed\n",
      "41\n",
      "[*********************100%***********************]  1 of 1 completed\n",
      "42\n",
      "[*********************100%***********************]  1 of 1 completed\n",
      "43\n",
      "[*********************100%***********************]  1 of 1 completed\n",
      "44\n",
      "[*********************100%***********************]  1 of 1 completed\n",
      "45\n",
      "[*********************100%***********************]  1 of 1 completed\n",
      "46\n",
      "[*********************100%***********************]  1 of 1 completed\n",
      "47\n",
      "[*********************100%***********************]  1 of 1 completed\n",
      "48\n",
      "[*********************100%***********************]  1 of 1 completed\n",
      "49\n",
      "[*********************100%***********************]  1 of 1 completed\n",
      "50\n",
      "[*********************100%***********************]  1 of 1 completed\n",
      "51\n",
      "[*********************100%***********************]  1 of 1 completed\n",
      "52\n",
      "[*********************100%***********************]  1 of 1 completed\n",
      "53\n",
      "[*********************100%***********************]  1 of 1 completed\n",
      "54\n",
      "[*********************100%***********************]  1 of 1 completed\n",
      "55\n",
      "[*********************100%***********************]  1 of 1 completed\n",
      "56\n",
      "[*********************100%***********************]  1 of 1 completed\n",
      "57\n",
      "[*********************100%***********************]  1 of 1 completed\n",
      "58\n",
      "[*********************100%***********************]  1 of 1 completed\n",
      "59\n",
      "[*********************100%***********************]  1 of 1 completed\n",
      "60\n",
      "[*********************100%***********************]  1 of 1 completed\n",
      "61\n",
      "[*********************100%***********************]  1 of 1 completed\n",
      "62\n",
      "[*********************100%***********************]  1 of 1 completed\n",
      "63\n",
      "[*********************100%***********************]  1 of 1 completed\n",
      "64\n",
      "[*********************100%***********************]  1 of 1 completed\n",
      "65\n",
      "[*********************100%***********************]  1 of 1 completed\n",
      "66\n",
      "[*********************100%***********************]  1 of 1 completed\n",
      "67\n",
      "[*********************100%***********************]  1 of 1 completed\n",
      "68\n",
      "[*********************100%***********************]  1 of 1 completed\n",
      "69\n",
      "[*********************100%***********************]  1 of 1 completed\n",
      "70\n",
      "[*********************100%***********************]  1 of 1 completed\n",
      "71\n",
      "[*********************100%***********************]  1 of 1 completed\n",
      "72\n",
      "[*********************100%***********************]  1 of 1 completed\n",
      "73\n",
      "[*********************100%***********************]  1 of 1 completed\n",
      "74\n",
      "[*********************100%***********************]  1 of 1 completed\n",
      "75\n",
      "[*********************100%***********************]  1 of 1 completed\n",
      "76\n",
      "[*********************100%***********************]  1 of 1 completed\n",
      "77\n",
      "[*********************100%***********************]  1 of 1 completed\n",
      "78\n",
      "[*********************100%***********************]  1 of 1 completed\n",
      "79\n",
      "[*********************100%***********************]  1 of 1 completed\n",
      "80\n",
      "[*********************100%***********************]  1 of 1 completed\n",
      "81\n",
      "[*********************100%***********************]  1 of 1 completed\n",
      "82\n",
      "[*********************100%***********************]  1 of 1 completed\n",
      "83\n",
      "[*********************100%***********************]  1 of 1 completed\n",
      "84\n",
      "[*********************100%***********************]  1 of 1 completed\n",
      "85\n",
      "[*********************100%***********************]  1 of 1 completed\n",
      "86\n",
      "[*********************100%***********************]  1 of 1 completed\n",
      "87\n",
      "[*********************100%***********************]  1 of 1 completed\n",
      "88\n",
      "[*********************100%***********************]  1 of 1 completed\n",
      "89\n",
      "[*********************100%***********************]  1 of 1 completed\n",
      "90\n",
      "[*********************100%***********************]  1 of 1 completed\n",
      "91\n",
      "[*********************100%***********************]  1 of 1 completed\n",
      "92\n",
      "[*********************100%***********************]  1 of 1 completed\n",
      "93\n",
      "[*********************100%***********************]  1 of 1 completed\n",
      "94\n",
      "[*********************100%***********************]  1 of 1 completed\n",
      "95\n",
      "[*********************100%***********************]  1 of 1 completed\n",
      "96\n",
      "[*********************100%***********************]  1 of 1 completed\n",
      "97\n",
      "[*********************100%***********************]  1 of 1 completed\n",
      "98\n",
      "[*********************100%***********************]  1 of 1 completed\n",
      "99\n",
      "2022-06-02 01:55:19\n",
      "2022-12-19 01:55:19\n",
      "[*********************100%***********************]  1 of 1 completed\n",
      "AdY statistics -2.4315198231242006\n",
      "p-value 0.13303704694384422\n"
     ]
    },
    {
     "name": "stderr",
     "output_type": "stream",
     "text": [
      "c:\\ProgramData\\Anaconda3\\lib\\site-packages\\statsmodels\\tsa\\statespace\\sarimax.py:966: UserWarning: Non-stationary starting autoregressive parameters found. Using zeros as starting parameters.\n",
      "  warn('Non-stationary starting autoregressive parameters'\n",
      "c:\\ProgramData\\Anaconda3\\lib\\site-packages\\statsmodels\\tsa\\statespace\\sarimax.py:978: UserWarning: Non-invertible starting MA parameters found. Using zeros as starting parameters.\n",
      "  warn('Non-invertible starting MA parameters found.'\n"
     ]
    },
    {
     "name": "stdout",
     "output_type": "stream",
     "text": [
      "2022-02-19 01:55:19\n",
      "2022-09-07 01:55:19\n",
      "[*********************100%***********************]  1 of 1 completed\n",
      "AdY statistics -2.3709148318353233\n",
      "p-value 0.15011429033061874\n"
     ]
    },
    {
     "name": "stderr",
     "output_type": "stream",
     "text": [
      "c:\\ProgramData\\Anaconda3\\lib\\site-packages\\statsmodels\\tsa\\statespace\\sarimax.py:966: UserWarning: Non-stationary starting autoregressive parameters found. Using zeros as starting parameters.\n",
      "  warn('Non-stationary starting autoregressive parameters'\n",
      "c:\\ProgramData\\Anaconda3\\lib\\site-packages\\statsmodels\\tsa\\statespace\\sarimax.py:978: UserWarning: Non-invertible starting MA parameters found. Using zeros as starting parameters.\n",
      "  warn('Non-invertible starting MA parameters found.'\n",
      "c:\\ProgramData\\Anaconda3\\lib\\site-packages\\statsmodels\\base\\model.py:604: ConvergenceWarning: Maximum Likelihood optimization failed to converge. Check mle_retvals\n",
      "  warnings.warn(\"Maximum Likelihood optimization failed to \"\n"
     ]
    },
    {
     "name": "stdout",
     "output_type": "stream",
     "text": [
      "2022-01-29 01:55:19\n",
      "2022-08-17 01:55:19\n",
      "[*********************100%***********************]  1 of 1 completed\n",
      "AdY statistics -2.1085213776575578\n",
      "p-value 0.24110194724512407\n"
     ]
    },
    {
     "name": "stderr",
     "output_type": "stream",
     "text": [
      "c:\\ProgramData\\Anaconda3\\lib\\site-packages\\statsmodels\\tsa\\statespace\\sarimax.py:966: UserWarning: Non-stationary starting autoregressive parameters found. Using zeros as starting parameters.\n",
      "  warn('Non-stationary starting autoregressive parameters'\n",
      "c:\\ProgramData\\Anaconda3\\lib\\site-packages\\statsmodels\\tsa\\statespace\\sarimax.py:978: UserWarning: Non-invertible starting MA parameters found. Using zeros as starting parameters.\n",
      "  warn('Non-invertible starting MA parameters found.'\n",
      "c:\\ProgramData\\Anaconda3\\lib\\site-packages\\statsmodels\\base\\model.py:604: ConvergenceWarning: Maximum Likelihood optimization failed to converge. Check mle_retvals\n",
      "  warnings.warn(\"Maximum Likelihood optimization failed to \"\n",
      "c:\\ProgramData\\Anaconda3\\lib\\site-packages\\statsmodels\\base\\model.py:604: ConvergenceWarning: Maximum Likelihood optimization failed to converge. Check mle_retvals\n",
      "  warnings.warn(\"Maximum Likelihood optimization failed to \"\n"
     ]
    },
    {
     "name": "stdout",
     "output_type": "stream",
     "text": [
      "2022-01-14 01:55:19\n",
      "2022-08-02 01:55:19\n",
      "[*********************100%***********************]  1 of 1 completed\n",
      "AdY statistics -2.08315115350043\n",
      "p-value 0.25134335367293126\n"
     ]
    },
    {
     "name": "stderr",
     "output_type": "stream",
     "text": [
      "c:\\ProgramData\\Anaconda3\\lib\\site-packages\\statsmodels\\tsa\\statespace\\sarimax.py:966: UserWarning: Non-stationary starting autoregressive parameters found. Using zeros as starting parameters.\n",
      "  warn('Non-stationary starting autoregressive parameters'\n",
      "c:\\ProgramData\\Anaconda3\\lib\\site-packages\\statsmodels\\tsa\\statespace\\sarimax.py:978: UserWarning: Non-invertible starting MA parameters found. Using zeros as starting parameters.\n",
      "  warn('Non-invertible starting MA parameters found.'\n",
      "c:\\ProgramData\\Anaconda3\\lib\\site-packages\\statsmodels\\base\\model.py:604: ConvergenceWarning: Maximum Likelihood optimization failed to converge. Check mle_retvals\n",
      "  warnings.warn(\"Maximum Likelihood optimization failed to \"\n",
      "c:\\ProgramData\\Anaconda3\\lib\\site-packages\\statsmodels\\base\\model.py:604: ConvergenceWarning: Maximum Likelihood optimization failed to converge. Check mle_retvals\n",
      "  warnings.warn(\"Maximum Likelihood optimization failed to \"\n"
     ]
    },
    {
     "name": "stdout",
     "output_type": "stream",
     "text": [
      "2022-01-10 01:55:19\n",
      "2022-07-29 01:55:19\n",
      "[*********************100%***********************]  1 of 1 completed\n",
      "AdY statistics -2.126220055657207\n",
      "p-value 0.23410290713686494\n"
     ]
    },
    {
     "name": "stderr",
     "output_type": "stream",
     "text": [
      "c:\\ProgramData\\Anaconda3\\lib\\site-packages\\statsmodels\\tsa\\statespace\\sarimax.py:966: UserWarning: Non-stationary starting autoregressive parameters found. Using zeros as starting parameters.\n",
      "  warn('Non-stationary starting autoregressive parameters'\n",
      "c:\\ProgramData\\Anaconda3\\lib\\site-packages\\statsmodels\\tsa\\statespace\\sarimax.py:978: UserWarning: Non-invertible starting MA parameters found. Using zeros as starting parameters.\n",
      "  warn('Non-invertible starting MA parameters found.'\n",
      "c:\\ProgramData\\Anaconda3\\lib\\site-packages\\statsmodels\\base\\model.py:604: ConvergenceWarning: Maximum Likelihood optimization failed to converge. Check mle_retvals\n",
      "  warnings.warn(\"Maximum Likelihood optimization failed to \"\n",
      "c:\\ProgramData\\Anaconda3\\lib\\site-packages\\statsmodels\\base\\model.py:604: ConvergenceWarning: Maximum Likelihood optimization failed to converge. Check mle_retvals\n",
      "  warnings.warn(\"Maximum Likelihood optimization failed to \"\n"
     ]
    },
    {
     "name": "stdout",
     "output_type": "stream",
     "text": [
      "2022-01-10 01:55:19\n",
      "2022-07-29 01:55:19\n",
      "[*********************100%***********************]  1 of 1 completed\n",
      "AdY statistics -2.126220055657207\n",
      "p-value 0.23410290713686494\n"
     ]
    },
    {
     "name": "stderr",
     "output_type": "stream",
     "text": [
      "c:\\ProgramData\\Anaconda3\\lib\\site-packages\\statsmodels\\tsa\\statespace\\sarimax.py:966: UserWarning: Non-stationary starting autoregressive parameters found. Using zeros as starting parameters.\n",
      "  warn('Non-stationary starting autoregressive parameters'\n",
      "c:\\ProgramData\\Anaconda3\\lib\\site-packages\\statsmodels\\tsa\\statespace\\sarimax.py:978: UserWarning: Non-invertible starting MA parameters found. Using zeros as starting parameters.\n",
      "  warn('Non-invertible starting MA parameters found.'\n",
      "c:\\ProgramData\\Anaconda3\\lib\\site-packages\\statsmodels\\base\\model.py:604: ConvergenceWarning: Maximum Likelihood optimization failed to converge. Check mle_retvals\n",
      "  warnings.warn(\"Maximum Likelihood optimization failed to \"\n",
      "c:\\ProgramData\\Anaconda3\\lib\\site-packages\\statsmodels\\base\\model.py:604: ConvergenceWarning: Maximum Likelihood optimization failed to converge. Check mle_retvals\n",
      "  warnings.warn(\"Maximum Likelihood optimization failed to \"\n"
     ]
    },
    {
     "name": "stdout",
     "output_type": "stream",
     "text": [
      "2021-12-17 01:55:19\n",
      "2022-07-05 01:55:19\n",
      "[*********************100%***********************]  1 of 1 completed\n",
      "AdY statistics -2.1577087121728136\n",
      "p-value 0.22195105689632916\n"
     ]
    },
    {
     "name": "stderr",
     "output_type": "stream",
     "text": [
      "c:\\ProgramData\\Anaconda3\\lib\\site-packages\\statsmodels\\tsa\\statespace\\sarimax.py:966: UserWarning: Non-stationary starting autoregressive parameters found. Using zeros as starting parameters.\n",
      "  warn('Non-stationary starting autoregressive parameters'\n",
      "c:\\ProgramData\\Anaconda3\\lib\\site-packages\\statsmodels\\tsa\\statespace\\sarimax.py:978: UserWarning: Non-invertible starting MA parameters found. Using zeros as starting parameters.\n",
      "  warn('Non-invertible starting MA parameters found.'\n",
      "c:\\ProgramData\\Anaconda3\\lib\\site-packages\\statsmodels\\base\\model.py:604: ConvergenceWarning: Maximum Likelihood optimization failed to converge. Check mle_retvals\n",
      "  warnings.warn(\"Maximum Likelihood optimization failed to \"\n",
      "c:\\ProgramData\\Anaconda3\\lib\\site-packages\\statsmodels\\base\\model.py:604: ConvergenceWarning: Maximum Likelihood optimization failed to converge. Check mle_retvals\n",
      "  warnings.warn(\"Maximum Likelihood optimization failed to \"\n"
     ]
    },
    {
     "name": "stdout",
     "output_type": "stream",
     "text": [
      "2021-12-06 01:55:19\n",
      "2022-06-24 01:55:19\n",
      "[*********************100%***********************]  1 of 1 completed\n",
      "AdY statistics -2.0450767097474603\n",
      "p-value 0.26716473902794097\n"
     ]
    },
    {
     "name": "stderr",
     "output_type": "stream",
     "text": [
      "c:\\ProgramData\\Anaconda3\\lib\\site-packages\\statsmodels\\tsa\\statespace\\sarimax.py:966: UserWarning: Non-stationary starting autoregressive parameters found. Using zeros as starting parameters.\n",
      "  warn('Non-stationary starting autoregressive parameters'\n",
      "c:\\ProgramData\\Anaconda3\\lib\\site-packages\\statsmodels\\tsa\\statespace\\sarimax.py:978: UserWarning: Non-invertible starting MA parameters found. Using zeros as starting parameters.\n",
      "  warn('Non-invertible starting MA parameters found.'\n",
      "c:\\ProgramData\\Anaconda3\\lib\\site-packages\\statsmodels\\base\\model.py:604: ConvergenceWarning: Maximum Likelihood optimization failed to converge. Check mle_retvals\n",
      "  warnings.warn(\"Maximum Likelihood optimization failed to \"\n",
      "c:\\ProgramData\\Anaconda3\\lib\\site-packages\\statsmodels\\base\\model.py:604: ConvergenceWarning: Maximum Likelihood optimization failed to converge. Check mle_retvals\n",
      "  warnings.warn(\"Maximum Likelihood optimization failed to \"\n"
     ]
    },
    {
     "name": "stdout",
     "output_type": "stream",
     "text": [
      "2021-11-01 01:55:19\n",
      "2022-05-20 01:55:19\n",
      "[*********************100%***********************]  1 of 1 completed\n",
      "AdY statistics -2.2932092846553633\n",
      "p-value 0.17416746697353702\n"
     ]
    },
    {
     "name": "stderr",
     "output_type": "stream",
     "text": [
      "c:\\ProgramData\\Anaconda3\\lib\\site-packages\\statsmodels\\tsa\\statespace\\sarimax.py:966: UserWarning: Non-stationary starting autoregressive parameters found. Using zeros as starting parameters.\n",
      "  warn('Non-stationary starting autoregressive parameters'\n",
      "c:\\ProgramData\\Anaconda3\\lib\\site-packages\\statsmodels\\tsa\\statespace\\sarimax.py:978: UserWarning: Non-invertible starting MA parameters found. Using zeros as starting parameters.\n",
      "  warn('Non-invertible starting MA parameters found.'\n",
      "c:\\ProgramData\\Anaconda3\\lib\\site-packages\\statsmodels\\base\\model.py:604: ConvergenceWarning: Maximum Likelihood optimization failed to converge. Check mle_retvals\n",
      "  warnings.warn(\"Maximum Likelihood optimization failed to \"\n",
      "c:\\ProgramData\\Anaconda3\\lib\\site-packages\\statsmodels\\base\\model.py:604: ConvergenceWarning: Maximum Likelihood optimization failed to converge. Check mle_retvals\n",
      "  warnings.warn(\"Maximum Likelihood optimization failed to \"\n"
     ]
    },
    {
     "name": "stdout",
     "output_type": "stream",
     "text": [
      "2021-09-08 01:55:19\n",
      "2022-03-27 01:55:19\n",
      "[*********************100%***********************]  1 of 1 completed\n",
      "AdY statistics -2.2122807734757597\n",
      "p-value 0.20181847584183937\n"
     ]
    },
    {
     "name": "stderr",
     "output_type": "stream",
     "text": [
      "c:\\ProgramData\\Anaconda3\\lib\\site-packages\\statsmodels\\tsa\\statespace\\sarimax.py:966: UserWarning: Non-stationary starting autoregressive parameters found. Using zeros as starting parameters.\n",
      "  warn('Non-stationary starting autoregressive parameters'\n",
      "c:\\ProgramData\\Anaconda3\\lib\\site-packages\\statsmodels\\tsa\\statespace\\sarimax.py:978: UserWarning: Non-invertible starting MA parameters found. Using zeros as starting parameters.\n",
      "  warn('Non-invertible starting MA parameters found.'\n",
      "c:\\ProgramData\\Anaconda3\\lib\\site-packages\\statsmodels\\base\\model.py:604: ConvergenceWarning: Maximum Likelihood optimization failed to converge. Check mle_retvals\n",
      "  warnings.warn(\"Maximum Likelihood optimization failed to \"\n"
     ]
    },
    {
     "name": "stdout",
     "output_type": "stream",
     "text": [
      "2021-07-18 01:55:19\n",
      "2022-02-03 01:55:19\n",
      "[*********************100%***********************]  1 of 1 completed\n",
      "AdY statistics -1.8761182066514184\n",
      "p-value 0.343377898965995\n"
     ]
    },
    {
     "name": "stderr",
     "output_type": "stream",
     "text": [
      "c:\\ProgramData\\Anaconda3\\lib\\site-packages\\statsmodels\\base\\model.py:604: ConvergenceWarning: Maximum Likelihood optimization failed to converge. Check mle_retvals\n",
      "  warnings.warn(\"Maximum Likelihood optimization failed to \"\n"
     ]
    },
    {
     "name": "stdout",
     "output_type": "stream",
     "text": [
      "2021-07-15 01:55:19\n",
      "2022-01-31 01:55:19\n",
      "[*********************100%***********************]  1 of 1 completed\n",
      "AdY statistics -1.8571948836641603\n",
      "p-value 0.35245797391546674\n"
     ]
    },
    {
     "name": "stderr",
     "output_type": "stream",
     "text": [
      "c:\\ProgramData\\Anaconda3\\lib\\site-packages\\statsmodels\\base\\model.py:604: ConvergenceWarning: Maximum Likelihood optimization failed to converge. Check mle_retvals\n",
      "  warnings.warn(\"Maximum Likelihood optimization failed to \"\n"
     ]
    },
    {
     "name": "stdout",
     "output_type": "stream",
     "text": [
      "2021-05-29 01:55:19\n",
      "2021-12-15 01:55:19\n",
      "[*********************100%***********************]  1 of 1 completed\n",
      "AdY statistics -1.1942592560105416\n",
      "p-value 0.6760603467737616\n",
      "2021-04-30 01:55:19\n",
      "2021-11-16 01:55:19\n",
      "[*********************100%***********************]  1 of 1 completed\n",
      "AdY statistics -0.9104500855681287\n",
      "p-value 0.7845115772751361\n"
     ]
    },
    {
     "name": "stderr",
     "output_type": "stream",
     "text": [
      "c:\\ProgramData\\Anaconda3\\lib\\site-packages\\statsmodels\\base\\model.py:604: ConvergenceWarning: Maximum Likelihood optimization failed to converge. Check mle_retvals\n",
      "  warnings.warn(\"Maximum Likelihood optimization failed to \"\n",
      "c:\\ProgramData\\Anaconda3\\lib\\site-packages\\statsmodels\\base\\model.py:604: ConvergenceWarning: Maximum Likelihood optimization failed to converge. Check mle_retvals\n",
      "  warnings.warn(\"Maximum Likelihood optimization failed to \"\n"
     ]
    },
    {
     "name": "stdout",
     "output_type": "stream",
     "text": [
      "2021-04-15 01:55:19\n",
      "2021-11-01 01:55:19\n",
      "[*********************100%***********************]  1 of 1 completed\n",
      "AdY statistics -0.9087376882300608\n",
      "p-value 0.785081354117386\n"
     ]
    },
    {
     "name": "stderr",
     "output_type": "stream",
     "text": [
      "c:\\ProgramData\\Anaconda3\\lib\\site-packages\\statsmodels\\base\\model.py:604: ConvergenceWarning: Maximum Likelihood optimization failed to converge. Check mle_retvals\n",
      "  warnings.warn(\"Maximum Likelihood optimization failed to \"\n",
      "c:\\ProgramData\\Anaconda3\\lib\\site-packages\\statsmodels\\base\\model.py:604: ConvergenceWarning: Maximum Likelihood optimization failed to converge. Check mle_retvals\n",
      "  warnings.warn(\"Maximum Likelihood optimization failed to \"\n"
     ]
    },
    {
     "name": "stdout",
     "output_type": "stream",
     "text": [
      "2021-04-02 01:55:19\n",
      "2021-10-19 01:55:19\n",
      "[*********************100%***********************]  1 of 1 completed\n",
      "AdY statistics 0.4739167390165403\n",
      "p-value 0.984058380265739\n",
      "2021-02-21 01:55:19\n",
      "2021-09-09 01:55:19\n",
      "[*********************100%***********************]  1 of 1 completed\n",
      "AdY statistics -0.7111806923503239\n",
      "p-value 0.843832191744997\n"
     ]
    },
    {
     "name": "stderr",
     "output_type": "stream",
     "text": [
      "c:\\ProgramData\\Anaconda3\\lib\\site-packages\\statsmodels\\tsa\\statespace\\sarimax.py:966: UserWarning: Non-stationary starting autoregressive parameters found. Using zeros as starting parameters.\n",
      "  warn('Non-stationary starting autoregressive parameters'\n",
      "c:\\ProgramData\\Anaconda3\\lib\\site-packages\\statsmodels\\tsa\\statespace\\sarimax.py:978: UserWarning: Non-invertible starting MA parameters found. Using zeros as starting parameters.\n",
      "  warn('Non-invertible starting MA parameters found.'\n",
      "c:\\ProgramData\\Anaconda3\\lib\\site-packages\\statsmodels\\base\\model.py:604: ConvergenceWarning: Maximum Likelihood optimization failed to converge. Check mle_retvals\n",
      "  warnings.warn(\"Maximum Likelihood optimization failed to \"\n",
      "c:\\ProgramData\\Anaconda3\\lib\\site-packages\\statsmodels\\base\\model.py:604: ConvergenceWarning: Maximum Likelihood optimization failed to converge. Check mle_retvals\n",
      "  warnings.warn(\"Maximum Likelihood optimization failed to \"\n"
     ]
    },
    {
     "name": "stdout",
     "output_type": "stream",
     "text": [
      "2021-02-19 01:55:19\n",
      "2021-09-07 01:55:19\n",
      "[*********************100%***********************]  1 of 1 completed\n",
      "AdY statistics -0.6945393944493896\n",
      "p-value 0.84815889209056\n",
      "2021-02-16 01:55:19\n",
      "2021-09-04 01:55:19\n",
      "[*********************100%***********************]  1 of 1 completed\n",
      "AdY statistics -0.8163572320739367\n",
      "p-value 0.8142699726729707\n",
      "2021-02-14 01:55:19\n",
      "2021-09-02 01:55:19\n",
      "[*********************100%***********************]  1 of 1 completed\n",
      "AdY statistics -1.557166770352744\n",
      "p-value 0.5050663790269635\n"
     ]
    },
    {
     "name": "stderr",
     "output_type": "stream",
     "text": [
      "c:\\ProgramData\\Anaconda3\\lib\\site-packages\\statsmodels\\tsa\\statespace\\sarimax.py:966: UserWarning: Non-stationary starting autoregressive parameters found. Using zeros as starting parameters.\n",
      "  warn('Non-stationary starting autoregressive parameters'\n",
      "c:\\ProgramData\\Anaconda3\\lib\\site-packages\\statsmodels\\tsa\\statespace\\sarimax.py:978: UserWarning: Non-invertible starting MA parameters found. Using zeros as starting parameters.\n",
      "  warn('Non-invertible starting MA parameters found.'\n"
     ]
    },
    {
     "name": "stdout",
     "output_type": "stream",
     "text": [
      "2021-01-30 01:55:19\n",
      "2021-08-18 01:55:19\n",
      "[*********************100%***********************]  1 of 1 completed\n",
      "AdY statistics -2.239941519924136\n",
      "p-value 0.19206954794484005\n"
     ]
    },
    {
     "name": "stderr",
     "output_type": "stream",
     "text": [
      "c:\\ProgramData\\Anaconda3\\lib\\site-packages\\statsmodels\\tsa\\statespace\\sarimax.py:966: UserWarning: Non-stationary starting autoregressive parameters found. Using zeros as starting parameters.\n",
      "  warn('Non-stationary starting autoregressive parameters'\n",
      "c:\\ProgramData\\Anaconda3\\lib\\site-packages\\statsmodels\\tsa\\statespace\\sarimax.py:978: UserWarning: Non-invertible starting MA parameters found. Using zeros as starting parameters.\n",
      "  warn('Non-invertible starting MA parameters found.'\n",
      "c:\\ProgramData\\Anaconda3\\lib\\site-packages\\statsmodels\\base\\model.py:604: ConvergenceWarning: Maximum Likelihood optimization failed to converge. Check mle_retvals\n",
      "  warnings.warn(\"Maximum Likelihood optimization failed to \"\n"
     ]
    },
    {
     "name": "stdout",
     "output_type": "stream",
     "text": [
      "2021-01-16 01:55:19\n",
      "2021-08-04 01:55:19\n",
      "[*********************100%***********************]  1 of 1 completed\n",
      "AdY statistics -2.0112881784655383\n",
      "p-value 0.2816456647998825\n"
     ]
    },
    {
     "name": "stderr",
     "output_type": "stream",
     "text": [
      "c:\\ProgramData\\Anaconda3\\lib\\site-packages\\statsmodels\\tsa\\statespace\\sarimax.py:966: UserWarning: Non-stationary starting autoregressive parameters found. Using zeros as starting parameters.\n",
      "  warn('Non-stationary starting autoregressive parameters'\n",
      "c:\\ProgramData\\Anaconda3\\lib\\site-packages\\statsmodels\\tsa\\statespace\\sarimax.py:978: UserWarning: Non-invertible starting MA parameters found. Using zeros as starting parameters.\n",
      "  warn('Non-invertible starting MA parameters found.'\n",
      "c:\\ProgramData\\Anaconda3\\lib\\site-packages\\statsmodels\\base\\model.py:604: ConvergenceWarning: Maximum Likelihood optimization failed to converge. Check mle_retvals\n",
      "  warnings.warn(\"Maximum Likelihood optimization failed to \"\n"
     ]
    },
    {
     "name": "stdout",
     "output_type": "stream",
     "text": [
      "2021-01-08 01:55:19\n",
      "2021-07-27 01:55:19\n",
      "[*********************100%***********************]  1 of 1 completed\n",
      "AdY statistics -2.1000036755903793\n",
      "p-value 0.2445131235308582\n"
     ]
    },
    {
     "name": "stderr",
     "output_type": "stream",
     "text": [
      "c:\\ProgramData\\Anaconda3\\lib\\site-packages\\statsmodels\\tsa\\statespace\\sarimax.py:966: UserWarning: Non-stationary starting autoregressive parameters found. Using zeros as starting parameters.\n",
      "  warn('Non-stationary starting autoregressive parameters'\n",
      "c:\\ProgramData\\Anaconda3\\lib\\site-packages\\statsmodels\\tsa\\statespace\\sarimax.py:978: UserWarning: Non-invertible starting MA parameters found. Using zeros as starting parameters.\n",
      "  warn('Non-invertible starting MA parameters found.'\n",
      "c:\\ProgramData\\Anaconda3\\lib\\site-packages\\statsmodels\\base\\model.py:604: ConvergenceWarning: Maximum Likelihood optimization failed to converge. Check mle_retvals\n",
      "  warnings.warn(\"Maximum Likelihood optimization failed to \"\n"
     ]
    },
    {
     "name": "stdout",
     "output_type": "stream",
     "text": [
      "2020-12-12 01:55:19\n",
      "2021-06-30 01:55:19\n",
      "[*********************100%***********************]  1 of 1 completed\n",
      "AdY statistics -2.2720202205596176\n",
      "p-value 0.181150832443841\n"
     ]
    },
    {
     "name": "stderr",
     "output_type": "stream",
     "text": [
      "c:\\ProgramData\\Anaconda3\\lib\\site-packages\\statsmodels\\tsa\\statespace\\sarimax.py:966: UserWarning: Non-stationary starting autoregressive parameters found. Using zeros as starting parameters.\n",
      "  warn('Non-stationary starting autoregressive parameters'\n",
      "c:\\ProgramData\\Anaconda3\\lib\\site-packages\\statsmodels\\tsa\\statespace\\sarimax.py:978: UserWarning: Non-invertible starting MA parameters found. Using zeros as starting parameters.\n",
      "  warn('Non-invertible starting MA parameters found.'\n",
      "c:\\ProgramData\\Anaconda3\\lib\\site-packages\\statsmodels\\base\\model.py:604: ConvergenceWarning: Maximum Likelihood optimization failed to converge. Check mle_retvals\n",
      "  warnings.warn(\"Maximum Likelihood optimization failed to \"\n"
     ]
    },
    {
     "name": "stdout",
     "output_type": "stream",
     "text": [
      "2020-12-12 01:55:19\n",
      "2021-06-30 01:55:19\n",
      "[*********************100%***********************]  1 of 1 completed\n",
      "AdY statistics -2.2720202205596176\n",
      "p-value 0.181150832443841\n"
     ]
    },
    {
     "name": "stderr",
     "output_type": "stream",
     "text": [
      "c:\\ProgramData\\Anaconda3\\lib\\site-packages\\statsmodels\\tsa\\statespace\\sarimax.py:966: UserWarning: Non-stationary starting autoregressive parameters found. Using zeros as starting parameters.\n",
      "  warn('Non-stationary starting autoregressive parameters'\n",
      "c:\\ProgramData\\Anaconda3\\lib\\site-packages\\statsmodels\\tsa\\statespace\\sarimax.py:978: UserWarning: Non-invertible starting MA parameters found. Using zeros as starting parameters.\n",
      "  warn('Non-invertible starting MA parameters found.'\n",
      "c:\\ProgramData\\Anaconda3\\lib\\site-packages\\statsmodels\\base\\model.py:604: ConvergenceWarning: Maximum Likelihood optimization failed to converge. Check mle_retvals\n",
      "  warnings.warn(\"Maximum Likelihood optimization failed to \"\n"
     ]
    },
    {
     "name": "stdout",
     "output_type": "stream",
     "text": [
      "2020-10-29 01:55:19\n",
      "2021-05-17 01:55:19\n",
      "[*********************100%***********************]  1 of 1 completed\n",
      "AdY statistics -2.988349834280959\n",
      "p-value 0.03599679586728343\n"
     ]
    },
    {
     "name": "stderr",
     "output_type": "stream",
     "text": [
      "c:\\ProgramData\\Anaconda3\\lib\\site-packages\\statsmodels\\tsa\\statespace\\sarimax.py:966: UserWarning: Non-stationary starting autoregressive parameters found. Using zeros as starting parameters.\n",
      "  warn('Non-stationary starting autoregressive parameters'\n",
      "c:\\ProgramData\\Anaconda3\\lib\\site-packages\\statsmodels\\tsa\\statespace\\sarimax.py:978: UserWarning: Non-invertible starting MA parameters found. Using zeros as starting parameters.\n",
      "  warn('Non-invertible starting MA parameters found.'\n",
      "c:\\ProgramData\\Anaconda3\\lib\\site-packages\\statsmodels\\base\\model.py:604: ConvergenceWarning: Maximum Likelihood optimization failed to converge. Check mle_retvals\n",
      "  warnings.warn(\"Maximum Likelihood optimization failed to \"\n"
     ]
    },
    {
     "name": "stdout",
     "output_type": "stream",
     "text": [
      "2020-10-23 01:55:19\n",
      "2021-05-11 01:55:19\n",
      "[*********************100%***********************]  1 of 1 completed\n",
      "AdY statistics -3.23922837302227\n",
      "p-value 0.01782335361657543\n"
     ]
    },
    {
     "name": "stderr",
     "output_type": "stream",
     "text": [
      "c:\\ProgramData\\Anaconda3\\lib\\site-packages\\statsmodels\\tsa\\statespace\\sarimax.py:966: UserWarning: Non-stationary starting autoregressive parameters found. Using zeros as starting parameters.\n",
      "  warn('Non-stationary starting autoregressive parameters'\n",
      "c:\\ProgramData\\Anaconda3\\lib\\site-packages\\statsmodels\\tsa\\statespace\\sarimax.py:978: UserWarning: Non-invertible starting MA parameters found. Using zeros as starting parameters.\n",
      "  warn('Non-invertible starting MA parameters found.'\n",
      "c:\\ProgramData\\Anaconda3\\lib\\site-packages\\statsmodels\\base\\model.py:604: ConvergenceWarning: Maximum Likelihood optimization failed to converge. Check mle_retvals\n",
      "  warnings.warn(\"Maximum Likelihood optimization failed to \"\n"
     ]
    },
    {
     "name": "stdout",
     "output_type": "stream",
     "text": [
      "2020-09-25 01:55:19\n",
      "2021-04-13 01:55:19\n",
      "[*********************100%***********************]  1 of 1 completed\n",
      "AdY statistics -2.3870676597880474\n",
      "p-value 0.14541978348125167\n"
     ]
    },
    {
     "name": "stderr",
     "output_type": "stream",
     "text": [
      "c:\\ProgramData\\Anaconda3\\lib\\site-packages\\statsmodels\\base\\model.py:604: ConvergenceWarning: Maximum Likelihood optimization failed to converge. Check mle_retvals\n",
      "  warnings.warn(\"Maximum Likelihood optimization failed to \"\n",
      "c:\\ProgramData\\Anaconda3\\lib\\site-packages\\statsmodels\\base\\model.py:604: ConvergenceWarning: Maximum Likelihood optimization failed to converge. Check mle_retvals\n",
      "  warnings.warn(\"Maximum Likelihood optimization failed to \"\n"
     ]
    },
    {
     "name": "stdout",
     "output_type": "stream",
     "text": [
      "2020-09-25 01:55:19\n",
      "2021-04-13 01:55:19\n",
      "[*********************100%***********************]  1 of 1 completed\n",
      "AdY statistics -2.3870676597880474\n",
      "p-value 0.14541978348125167\n"
     ]
    },
    {
     "name": "stderr",
     "output_type": "stream",
     "text": [
      "c:\\ProgramData\\Anaconda3\\lib\\site-packages\\statsmodels\\base\\model.py:604: ConvergenceWarning: Maximum Likelihood optimization failed to converge. Check mle_retvals\n",
      "  warnings.warn(\"Maximum Likelihood optimization failed to \"\n",
      "c:\\ProgramData\\Anaconda3\\lib\\site-packages\\statsmodels\\base\\model.py:604: ConvergenceWarning: Maximum Likelihood optimization failed to converge. Check mle_retvals\n",
      "  warnings.warn(\"Maximum Likelihood optimization failed to \"\n"
     ]
    },
    {
     "name": "stdout",
     "output_type": "stream",
     "text": [
      "2020-09-24 01:55:19\n",
      "2021-04-12 01:55:19\n",
      "[*********************100%***********************]  1 of 1 completed\n",
      "AdY statistics -2.406054569384273\n",
      "p-value 0.14003483829052676\n"
     ]
    },
    {
     "name": "stderr",
     "output_type": "stream",
     "text": [
      "c:\\ProgramData\\Anaconda3\\lib\\site-packages\\statsmodels\\base\\model.py:604: ConvergenceWarning: Maximum Likelihood optimization failed to converge. Check mle_retvals\n",
      "  warnings.warn(\"Maximum Likelihood optimization failed to \"\n",
      "c:\\ProgramData\\Anaconda3\\lib\\site-packages\\statsmodels\\base\\model.py:604: ConvergenceWarning: Maximum Likelihood optimization failed to converge. Check mle_retvals\n",
      "  warnings.warn(\"Maximum Likelihood optimization failed to \"\n"
     ]
    },
    {
     "name": "stdout",
     "output_type": "stream",
     "text": [
      "2020-09-19 01:55:19\n",
      "2021-04-07 01:55:19\n",
      "[*********************100%***********************]  1 of 1 completed\n",
      "AdY statistics -2.613197416320782\n",
      "p-value 0.09030019185512872\n"
     ]
    },
    {
     "name": "stderr",
     "output_type": "stream",
     "text": [
      "c:\\ProgramData\\Anaconda3\\lib\\site-packages\\statsmodels\\base\\model.py:604: ConvergenceWarning: Maximum Likelihood optimization failed to converge. Check mle_retvals\n",
      "  warnings.warn(\"Maximum Likelihood optimization failed to \"\n",
      "c:\\ProgramData\\Anaconda3\\lib\\site-packages\\statsmodels\\base\\model.py:604: ConvergenceWarning: Maximum Likelihood optimization failed to converge. Check mle_retvals\n",
      "  warnings.warn(\"Maximum Likelihood optimization failed to \"\n"
     ]
    },
    {
     "name": "stdout",
     "output_type": "stream",
     "text": [
      "2020-08-21 01:55:19\n",
      "2021-03-09 01:55:19\n",
      "[*********************100%***********************]  1 of 1 completed\n",
      "AdY statistics -1.8054343813438378\n",
      "p-value 0.3777670315129106\n"
     ]
    },
    {
     "name": "stderr",
     "output_type": "stream",
     "text": [
      "c:\\ProgramData\\Anaconda3\\lib\\site-packages\\statsmodels\\base\\model.py:604: ConvergenceWarning: Maximum Likelihood optimization failed to converge. Check mle_retvals\n",
      "  warnings.warn(\"Maximum Likelihood optimization failed to \"\n",
      "c:\\ProgramData\\Anaconda3\\lib\\site-packages\\statsmodels\\base\\model.py:604: ConvergenceWarning: Maximum Likelihood optimization failed to converge. Check mle_retvals\n",
      "  warnings.warn(\"Maximum Likelihood optimization failed to \"\n"
     ]
    },
    {
     "name": "stdout",
     "output_type": "stream",
     "text": [
      "2020-08-19 01:55:19\n",
      "2021-03-07 01:55:19\n",
      "[*********************100%***********************]  1 of 1 completed\n",
      "AdY statistics -1.8972089025678087\n",
      "p-value 0.3333752681585926\n"
     ]
    },
    {
     "name": "stderr",
     "output_type": "stream",
     "text": [
      "c:\\ProgramData\\Anaconda3\\lib\\site-packages\\statsmodels\\tsa\\statespace\\sarimax.py:966: UserWarning: Non-stationary starting autoregressive parameters found. Using zeros as starting parameters.\n",
      "  warn('Non-stationary starting autoregressive parameters'\n",
      "c:\\ProgramData\\Anaconda3\\lib\\site-packages\\statsmodels\\tsa\\statespace\\sarimax.py:978: UserWarning: Non-invertible starting MA parameters found. Using zeros as starting parameters.\n",
      "  warn('Non-invertible starting MA parameters found.'\n",
      "c:\\ProgramData\\Anaconda3\\lib\\site-packages\\statsmodels\\base\\model.py:604: ConvergenceWarning: Maximum Likelihood optimization failed to converge. Check mle_retvals\n",
      "  warnings.warn(\"Maximum Likelihood optimization failed to \"\n",
      "c:\\ProgramData\\Anaconda3\\lib\\site-packages\\statsmodels\\base\\model.py:604: ConvergenceWarning: Maximum Likelihood optimization failed to converge. Check mle_retvals\n",
      "  warnings.warn(\"Maximum Likelihood optimization failed to \"\n"
     ]
    },
    {
     "name": "stdout",
     "output_type": "stream",
     "text": [
      "2020-08-18 01:55:19\n",
      "2021-03-06 01:55:19\n",
      "[*********************100%***********************]  1 of 1 completed\n",
      "AdY statistics -1.8871240121542514\n",
      "p-value 0.3381424143094957\n"
     ]
    },
    {
     "name": "stderr",
     "output_type": "stream",
     "text": [
      "c:\\ProgramData\\Anaconda3\\lib\\site-packages\\statsmodels\\base\\model.py:604: ConvergenceWarning: Maximum Likelihood optimization failed to converge. Check mle_retvals\n",
      "  warnings.warn(\"Maximum Likelihood optimization failed to \"\n"
     ]
    },
    {
     "name": "stdout",
     "output_type": "stream",
     "text": [
      "2020-08-15 01:55:19\n",
      "2021-03-03 01:55:19\n",
      "[*********************100%***********************]  1 of 1 completed\n",
      "AdY statistics -2.1513857190534194\n",
      "p-value 0.22436004865670334\n"
     ]
    },
    {
     "name": "stderr",
     "output_type": "stream",
     "text": [
      "c:\\ProgramData\\Anaconda3\\lib\\site-packages\\statsmodels\\base\\model.py:604: ConvergenceWarning: Maximum Likelihood optimization failed to converge. Check mle_retvals\n",
      "  warnings.warn(\"Maximum Likelihood optimization failed to \"\n",
      "c:\\ProgramData\\Anaconda3\\lib\\site-packages\\statsmodels\\base\\model.py:604: ConvergenceWarning: Maximum Likelihood optimization failed to converge. Check mle_retvals\n",
      "  warnings.warn(\"Maximum Likelihood optimization failed to \"\n"
     ]
    },
    {
     "name": "stdout",
     "output_type": "stream",
     "text": [
      "2020-08-06 01:55:19\n",
      "2021-02-22 01:55:19\n",
      "[*********************100%***********************]  1 of 1 completed\n",
      "AdY statistics -2.15548356064224\n",
      "p-value 0.2227970226759543\n"
     ]
    },
    {
     "name": "stderr",
     "output_type": "stream",
     "text": [
      "c:\\ProgramData\\Anaconda3\\lib\\site-packages\\statsmodels\\base\\model.py:604: ConvergenceWarning: Maximum Likelihood optimization failed to converge. Check mle_retvals\n",
      "  warnings.warn(\"Maximum Likelihood optimization failed to \"\n",
      "c:\\ProgramData\\Anaconda3\\lib\\site-packages\\statsmodels\\base\\model.py:604: ConvergenceWarning: Maximum Likelihood optimization failed to converge. Check mle_retvals\n",
      "  warnings.warn(\"Maximum Likelihood optimization failed to \"\n"
     ]
    },
    {
     "name": "stdout",
     "output_type": "stream",
     "text": [
      "2020-08-04 01:55:19\n",
      "2021-02-20 01:55:19\n",
      "[*********************100%***********************]  1 of 1 completed\n",
      "AdY statistics -2.128907533518362\n",
      "p-value 0.2330506982539674\n"
     ]
    },
    {
     "name": "stderr",
     "output_type": "stream",
     "text": [
      "c:\\ProgramData\\Anaconda3\\lib\\site-packages\\statsmodels\\base\\model.py:604: ConvergenceWarning: Maximum Likelihood optimization failed to converge. Check mle_retvals\n",
      "  warnings.warn(\"Maximum Likelihood optimization failed to \"\n"
     ]
    },
    {
     "name": "stdout",
     "output_type": "stream",
     "text": [
      "2020-08-03 01:55:19\n",
      "2021-02-19 01:55:19\n",
      "[*********************100%***********************]  1 of 1 completed\n",
      "AdY statistics -2.143702660042297\n",
      "p-value 0.2273083266527463\n",
      "2020-08-03 01:55:19\n",
      "2021-02-19 01:55:19\n",
      "[*********************100%***********************]  1 of 1 completed\n",
      "AdY statistics -2.143702660042297\n",
      "p-value 0.2273083266527463\n",
      "2020-07-30 01:55:19\n",
      "2021-02-15 01:55:19\n",
      "[*********************100%***********************]  1 of 1 completed\n",
      "AdY statistics -2.0783511037678313\n",
      "p-value 0.2533083526951813\n",
      "2020-07-28 01:55:19\n",
      "2021-02-13 01:55:19\n",
      "[*********************100%***********************]  1 of 1 completed\n",
      "AdY statistics -2.090588799980861\n",
      "p-value 0.24831569287644067\n",
      "2020-07-17 01:55:19\n",
      "2021-02-02 01:55:19\n",
      "[*********************100%***********************]  1 of 1 completed\n",
      "AdY statistics -2.184639348551702\n",
      "p-value 0.21186764655360119\n",
      "2020-07-16 01:55:19\n",
      "2021-02-01 01:55:19\n",
      "[*********************100%***********************]  1 of 1 completed\n",
      "AdY statistics -1.9958736588962536\n",
      "p-value 0.2883852816997239\n",
      "2020-07-16 01:55:19\n",
      "2021-02-01 01:55:19\n",
      "[*********************100%***********************]  1 of 1 completed\n",
      "AdY statistics -1.9958736588962536\n",
      "p-value 0.2883852816997239\n",
      "2020-06-29 01:55:19\n",
      "2021-01-15 01:55:19\n",
      "[*********************100%***********************]  1 of 1 completed\n",
      "AdY statistics -2.5382114254809944\n",
      "p-value 0.10645167166829284\n"
     ]
    },
    {
     "name": "stderr",
     "output_type": "stream",
     "text": [
      "c:\\ProgramData\\Anaconda3\\lib\\site-packages\\statsmodels\\tsa\\statespace\\sarimax.py:966: UserWarning: Non-stationary starting autoregressive parameters found. Using zeros as starting parameters.\n",
      "  warn('Non-stationary starting autoregressive parameters'\n",
      "c:\\ProgramData\\Anaconda3\\lib\\site-packages\\statsmodels\\tsa\\statespace\\sarimax.py:978: UserWarning: Non-invertible starting MA parameters found. Using zeros as starting parameters.\n",
      "  warn('Non-invertible starting MA parameters found.'\n"
     ]
    },
    {
     "name": "stdout",
     "output_type": "stream",
     "text": [
      "2020-06-25 01:55:19\n",
      "2021-01-11 01:55:19\n",
      "[*********************100%***********************]  1 of 1 completed\n",
      "AdY statistics -2.417679561312021\n",
      "p-value 0.13680853050804848\n"
     ]
    },
    {
     "name": "stderr",
     "output_type": "stream",
     "text": [
      "c:\\ProgramData\\Anaconda3\\lib\\site-packages\\statsmodels\\tsa\\statespace\\sarimax.py:966: UserWarning: Non-stationary starting autoregressive parameters found. Using zeros as starting parameters.\n",
      "  warn('Non-stationary starting autoregressive parameters'\n",
      "c:\\ProgramData\\Anaconda3\\lib\\site-packages\\statsmodels\\tsa\\statespace\\sarimax.py:978: UserWarning: Non-invertible starting MA parameters found. Using zeros as starting parameters.\n",
      "  warn('Non-invertible starting MA parameters found.'\n"
     ]
    },
    {
     "name": "stdout",
     "output_type": "stream",
     "text": [
      "2020-05-28 01:55:19\n",
      "2020-12-14 01:55:19\n",
      "[*********************100%***********************]  1 of 1 completed\n",
      "AdY statistics -2.4752065028772967\n",
      "p-value 0.12162397465585106\n"
     ]
    },
    {
     "name": "stderr",
     "output_type": "stream",
     "text": [
      "c:\\ProgramData\\Anaconda3\\lib\\site-packages\\statsmodels\\tsa\\statespace\\sarimax.py:966: UserWarning: Non-stationary starting autoregressive parameters found. Using zeros as starting parameters.\n",
      "  warn('Non-stationary starting autoregressive parameters'\n",
      "c:\\ProgramData\\Anaconda3\\lib\\site-packages\\statsmodels\\tsa\\statespace\\sarimax.py:978: UserWarning: Non-invertible starting MA parameters found. Using zeros as starting parameters.\n",
      "  warn('Non-invertible starting MA parameters found.'\n"
     ]
    },
    {
     "name": "stdout",
     "output_type": "stream",
     "text": [
      "2020-05-23 01:55:19\n",
      "2020-12-09 01:55:19\n",
      "[*********************100%***********************]  1 of 1 completed\n",
      "AdY statistics -2.561929389913163\n",
      "p-value 0.1011237005838338\n"
     ]
    },
    {
     "name": "stderr",
     "output_type": "stream",
     "text": [
      "c:\\ProgramData\\Anaconda3\\lib\\site-packages\\statsmodels\\tsa\\statespace\\sarimax.py:966: UserWarning: Non-stationary starting autoregressive parameters found. Using zeros as starting parameters.\n",
      "  warn('Non-stationary starting autoregressive parameters'\n",
      "c:\\ProgramData\\Anaconda3\\lib\\site-packages\\statsmodels\\tsa\\statespace\\sarimax.py:978: UserWarning: Non-invertible starting MA parameters found. Using zeros as starting parameters.\n",
      "  warn('Non-invertible starting MA parameters found.'\n"
     ]
    },
    {
     "name": "stdout",
     "output_type": "stream",
     "text": [
      "\n",
      "profit= 65.549072265625\n",
      "Invest= 50065.549072265625\n",
      "\n",
      " 1\n",
      "\n",
      "Loss= 208.94999999999618\n",
      "invest= 49856.59907226563\n",
      "\n",
      " 2\n",
      "\n",
      "Loss= 360.5245361328125\n",
      "invest= 49496.074536132815\n",
      "\n",
      " 3\n",
      "\n",
      "profit= -614.49951171875\n",
      "Invest= 48881.575024414065\n",
      "\n",
      " 4\n",
      "\n",
      "profit= -237.47528076171875\n",
      "Invest= 48644.09974365235\n",
      "\n",
      " 5\n",
      "\n",
      "profit= -225.97556152343645\n",
      "Invest= 48418.12418212891\n",
      "\n",
      " 6\n",
      "\n",
      "profit= -225.97556152343645\n",
      "Invest= 48192.14862060547\n",
      "\n",
      " 7\n",
      "\n",
      "profit= 993.0\n",
      "Invest= 49185.14862060547\n",
      "\n",
      " 8\n",
      "\n",
      "profit= 1388.1256103515625\n",
      "Invest= 50573.27423095703\n",
      "\n",
      " 9\n",
      "\n",
      "Loss= 357.49938964843864\n",
      "invest= 50215.774841308594\n",
      "\n",
      " 10\n"
     ]
    },
    {
     "data": {
      "image/png": "[encoded data removed]",
      "text/plain": [
       "<Figure size 640x480 with 1 Axes>"
      ]
     },
     "metadata": {},
     "output_type": "display_data"
    }
   ],
   "source": [
    "final=[]\n",
    "curr=-1\n",
    "cf=[]\n",
    "#iterating for all the paresed news.........default investment amount=50000\n",
    "for ticker, news_table in news_tables.items(): \n",
    "  invest=50000\n",
    "  act_inv=invest\n",
    "  curr=curr+1\n",
    "  if(curr==1):\n",
    "    break\n",
    "  \n",
    "  \n",
    "\n",
    "  parsed_data=[]\n",
    "  for row in news_table.findAll('tr'):\n",
    "    \n",
    "    title=row.a.get_text()\n",
    "    date_data=row.td.text.split(' ')\n",
    "    if len(date_data)==1:\n",
    "      time=date_data[0]\n",
    "    else:\n",
    "      data=date_data[0]\n",
    "      time=date_data[1]\n",
    "    parsed_data.append([ticker,data,time,title])\n",
    "    #creating dataframe of particular stock name\n",
    "  df=pd.DataFrame(parsed_data,columns=['ticker','date','time','title'])\n",
    "\n",
    "  #doing sentiment analysis\n",
    "  vader=SentimentIntensityAnalyzer()\n",
    "  f=lambda title:vader.polarity_scores(title)['compound']\n",
    "\n",
    "  #compound contains the news type\n",
    "  df['compound']=df['title'].apply(f)\n",
    "  dates=df.date.values\n",
    "  arr=[]\n",
    "  l=len(dates)\n",
    "  for i in range(0,l):\n",
    "    arr.append(get_date(dates,i))    #arr contains all the dates in datetime format\n",
    "  # /*close=[]\n",
    "  # l=len(arr)\n",
    "  # count=0\n",
    "  # #getting close for the day of news\n",
    "  # for i in range(0,l):\n",
    "  #   close.append(get_close(arr,i,stock_data[curr][2]))  \n",
    "  #   print(count)\n",
    "  #   count=count+1\n",
    "  close=[]\n",
    "  next_Closeing=[]\n",
    "  high_day1=[]\n",
    "  high_day2=[]\n",
    "  high_day3=[]\n",
    "  high_day4=[]\n",
    "  high_day5=[]\n",
    "  low_day1=[]\n",
    "  low_day2=[]\n",
    "  low_day3=[]\n",
    "  low_day4=[]\n",
    "  low_day5=[]\n",
    "  max_mean=[]\n",
    "  min_mean=[]\n",
    "  open=[]\n",
    "  l=len(arr)\n",
    "  count=0\n",
    "\n",
    "  #low and high of next consecutive 5 days\n",
    "  for i in range(0,l):\n",
    "    day=[]  \n",
    "    day=get_day(arr,i,stock_data[curr][2])\n",
    "    close.append(day[0])\n",
    "    open.append(day[1])\n",
    "    next_Closeing.append(day[2])\n",
    "    high_day1.append(day[3])\n",
    "    low_day1.append(day[4])\n",
    "    high_day2.append(day[5])\n",
    "    low_day2.append(day[6])\n",
    "    high_day3.append(day[7])\n",
    "    low_day3.append(day[8])\n",
    "    high_day4.append(day[9])\n",
    "    low_day4.append(day[10])\n",
    "    high_day5.append(day[11])\n",
    "    low_day5.append(day[12])\n",
    "    max_mean.append(maxi_mean(day))\n",
    "    min_mean.append(mini_mean(day))\n",
    "    print(count)\n",
    "    count=count+1\n",
    "  df['Close']=close \n",
    "  df['day1_high']=high_day1\n",
    "  #df['day2_high']=high_day2\n",
    "  # df['day3_high']=high_day3\n",
    "  # df['day4_high']=high_day4\n",
    "  # df['day5_high']=high_day5\n",
    "  df['day1_low']=low_day1\n",
    "  # df['day2_low']=low_day2\n",
    "  # df['day3_low']=low_day3\n",
    "  # df['day4_low']=low_day4\n",
    "  # df['day5_low']=low_day5\n",
    "  # df['max_mean']=max_mean\n",
    "  # df['min_mean']=min_mean\n",
    "  # df['high_next']=high_day1\n",
    "  # df['low_next']=low_day1\n",
    "  l=len(arr)\n",
    "  arima_res=[]\n",
    "  a_act=[]\n",
    "  compound=df.compound.values\n",
    "\n",
    "  #using arima for cross verification\n",
    "  for i in range(0,l):\n",
    "    if(compound[i]==0):\n",
    "      arima_res.append(0)\n",
    "      a_act.append(0)\n",
    "    else:\n",
    "      temp=arima_pred(stock_data[curr][2],arr,i,close[i])\n",
    "      arima_res.append(temp[1])\n",
    "      a_act.append(temp[0])\n",
    "\n",
    "  df['arima_value']=a_act\n",
    "  df['arima_res']=arima_res\n",
    "  \n",
    "  predicted=[]   #insertion in which neutral not included\n",
    "  prediction=[]   #intersection of arima and sentiment analysis\n",
    "  l=len(arr)\n",
    "  for i in range(0,l):\n",
    "    if(arima_res[i]>0 and compound[i]>0):\n",
    "      prediction.append('Increase')\n",
    "    elif(arima_res[i]<0 and compound[i]<0):\n",
    "      prediction.append('Decrease')\n",
    "    else:\n",
    "      prediction.append('Neutral')\n",
    "\n",
    "  df['prediction']=prediction\n",
    "  l=len(arr)\n",
    "  for i in range(0,l):\n",
    "    if(arima_res[i]>0 and compound[i]>0):\n",
    "      predicted.append('Increase')\n",
    "    elif(arima_res[i]<0 and compound[i]<0):\n",
    "      predicted.append('Decrease')\n",
    "    \n",
    "  observation=[]     #what we expected\n",
    "  actual=[]          #what actually happens\n",
    "  pos=0\n",
    "  a=0\n",
    "  neg=0\n",
    "  psuc=0\n",
    "  nsuc=0\n",
    "  no_of_trade=0\n",
    "  prof=0\n",
    "  c_arr=find_total(prediction)\n",
    "  l=len(arr)\n",
    "\n",
    "  #Backtracking to check the accuraccy of the model along with the profit got on investment\n",
    "  for i in range(0,l):\n",
    "    if(prediction[i]=='Neutral' and compare(close[i],max_mean[i],min_mean[i])==1):\n",
    "        observation.append('positive')\n",
    "        pos=pos+1\n",
    "    elif(prediction[i]=='Neutral' and compare(close[i],max_mean[i],min_mean[i])==-1):\n",
    "        observation.append('negative') \n",
    "        neg=neg+1\n",
    "    elif(prediction[i]=='Increase' and close[i]<high_day1[i]):#arima model check needed\n",
    "        observation.append('Success')\n",
    "        actual.append('Increase')\n",
    "        try:\n",
    "          prof=profit(invest,open[i],(next_Closeing[i]+high_day1[i])/2)\n",
    "          no_of_trade=no_of_trade+1\n",
    "          invest=invest+prof\n",
    "          print(\"\\nprofit=\",prof)\n",
    "          print(\"Invest=\",invest)\n",
    "          print(\"\\n\",no_of_trade)\n",
    "\n",
    "        except:\n",
    "          a=0\n",
    "          print('Except')\n",
    "        psuc=psuc+1\n",
    "    elif(prediction[i]=='Decrease' and close[i]>low_day1[i]):\n",
    "        observation.append('Success')\n",
    "        actual.append('Decrease')\n",
    "        nsuc=nsuc+1\n",
    "    else:\n",
    "         observation.append('Failure')\n",
    "         if(prediction[i]=='Decrease'):\n",
    "           actual.append('Increase')\n",
    "         else:\n",
    "           try:\n",
    "              loss=loss_cal(invest,open[i],next_Closeing[i],low_day1[i])\n",
    "              invest=invest-loss\n",
    "              no_of_trade=no_of_trade+1\n",
    "              print(\"\\nLoss=\",loss)\n",
    "              print(\"invest=\",invest)\n",
    "              print(\"\\n\",no_of_trade)\n",
    "           except:\n",
    "            a=0\n",
    "            print(\"except\")\n",
    "           actual.append('Decrease')\n",
    "    \n",
    "    \n",
    "    \n",
    "    \n",
    "\n",
    "  per_profit=per_prof_cal(invest,act_inv)\n",
    "  df['observation']=observation\n",
    "  df['observation'].value_counts().plot.bar()\n",
    "  plt.savefig(stock_data[curr][0]+'_1.png', facecolor='w', bbox_inches=\"tight\",\n",
    "            pad_inches=0.3, transparent=True)\n",
    "  \n",
    "  x=0\n",
    "  y=0\n",
    "  z=0\n",
    "  if c_arr[0]==0:\n",
    "    x=1   \n",
    "  else:\n",
    "    x=c_arr[0] \n",
    "  if c_arr[1]==0:\n",
    "    y=1   \n",
    "  else:\n",
    "    y=c_arr[1]\n",
    "  if c_arr[2]==0:\n",
    "    z=1  \n",
    "  else:\n",
    "    z=c_arr[2]  \n",
    "  final.append([stock_data[curr][0],len(arr),c_arr[0],str(round(pos/x*100,2))+'%',c_arr[1],\n",
    "  str(round(psuc/y*100,2))+'%',c_arr[2],str(round(nsuc/z*100,2))+'%',act_inv,no_of_trade,str(round(per_profit,2))+'%',round(invest,2)])\n",
    "\n",
    "  df.to_csv(stock_data[curr][0]+'1.csv')\n",
    "  \n",
    "  \n",
    "  r=confusion_matrix(actual,predicted)\n",
    "  cf.append(r)\n",
    "\n",
    " #final result of model \n",
    "summary=pd.DataFrame(final,columns=['Stock name','Total_news_count','neutal_news_count','Increase %','positive_news_count','success %',\n",
    "'negative_news_count ','success %','actual_invest','No_of_trade','profit','after_invest'])\n",
    "summary.to_csv('summary.csv')  \n",
    "    \n",
    "\n",
    "\n",
    " "
   ]
  },
  {
   "cell_type": "code",
   "execution_count": 28,
   "metadata": {},
   "outputs": [
    {
     "data": {
      "image/png": "[encoded data removed]",
      "text/plain": [
       "<Figure size 640x480 with 2 Axes>"
      ]
     },
     "metadata": {},
     "output_type": "display_data"
    }
   ],
   "source": [
    "#confusion matrix to calculate accuraccy and percantage error\n",
    "curr=0    \n",
    "for i in range(0,len(cf)):\n",
    "    ax= plt.subplot()   \n",
    "\n",
    "    sns.heatmap(cf[i], annot=True, fmt='g',ax=ax);  \n",
    "    ax.set_xlabel(stock_data[curr][0]);ax.set_ylabel('True labels'); \n",
    "    ax.set_title('Confusion Matrix'); \n",
    "    ax.xaxis.set_ticklabels(['Predicted Dec', 'Predicted_Inc']); ax.yaxis.set_ticklabels(['Actual_Dec', 'Actual_Inc'])\n",
    "    plt.savefig(stock_data[curr][0]+'_cf.png', facecolor='w', bbox_inches=\"tight\",\n",
    "            pad_inches=0.3, transparent=True)\n",
    "    curr=curr+1"
   ]
  },
  {
   "cell_type": "code",
   "execution_count": 29,
   "metadata": {},
   "outputs": [],
   "source": [
    "summary=pd.DataFrame(final,columns=['Stock name','Total_news_count','neutal_news_count','Increase %','positive_news_count','success %',\n",
    "'negative_news_count ','success %','actual_invest','No_of_trade','profit','after_invest'])\n",
    "summary.to_csv('summary.csv') "
   ]
  },
  {
   "cell_type": "code",
   "execution_count": null,
   "metadata": {},
   "outputs": [],
   "source": []
  }
 ],
 "metadata": {
  "interpreter": {
   "hash": "ad2bdc8ecc057115af97d19610ffacc2b4e99fae6737bb82f5d7fb13d2f2c186"
  },
  "kernelspec": {
   "display_name": "Python 3.9.7 ('base')",
   "language": "python",
   "name": "python3"
  },
  "language_info": {
   "codemirror_mode": {
    "name": "ipython",
    "version": 3
   },
   "file_extension": ".py",
   "mimetype": "text/x-python",
   "name": "python",
   "nbconvert_exporter": "python",
   "pygments_lexer": "ipython3",
   "version": "3.9.7"
  },
  "orig_nbformat": 4
 },
 "nbformat": 4,
 "nbformat_minor": 2
}
